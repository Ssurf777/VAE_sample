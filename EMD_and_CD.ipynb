{
  "nbformat": 4,
  "nbformat_minor": 0,
  "metadata": {
    "colab": {
      "provenance": [],
      "authorship_tag": "ABX9TyOXGc0W1iKEMOchWRdvb1ql",
      "include_colab_link": true
    },
    "kernelspec": {
      "name": "python3",
      "display_name": "Python 3"
    },
    "language_info": {
      "name": "python"
    }
  },
  "cells": [
    {
      "cell_type": "markdown",
      "metadata": {
        "id": "view-in-github",
        "colab_type": "text"
      },
      "source": [
        "<a href=\"https://colab.research.google.com/github/Ssurf777/VAE_sample/blob/main/EMD_and_CD.ipynb\" target=\"_parent\"><img src=\"https://colab.research.google.com/assets/colab-badge.svg\" alt=\"Open In Colab\"/></a>"
      ]
    },
    {
      "cell_type": "code",
      "execution_count": 1,
      "metadata": {
        "colab": {
          "base_uri": "https://localhost:8080/"
        },
        "id": "0Hak2qPHZOuy",
        "outputId": "37b43b29-dd65-4fdc-d679-370b0aff1528"
      },
      "outputs": [
        {
          "output_type": "stream",
          "name": "stdout",
          "text": [
            "Collecting POT\n",
            "  Downloading POT-0.9.5-cp311-cp311-manylinux_2_17_x86_64.manylinux2014_x86_64.whl.metadata (34 kB)\n",
            "Requirement already satisfied: numpy>=1.16 in /usr/local/lib/python3.11/dist-packages (from POT) (1.26.4)\n",
            "Requirement already satisfied: scipy>=1.6 in /usr/local/lib/python3.11/dist-packages (from POT) (1.13.1)\n",
            "Downloading POT-0.9.5-cp311-cp311-manylinux_2_17_x86_64.manylinux2014_x86_64.whl (897 kB)\n",
            "\u001b[2K   \u001b[90m━━━━━━━━━━━━━━━━━━━━━━━━━━━━━━━━━━━━━━━━\u001b[0m \u001b[32m897.5/897.5 kB\u001b[0m \u001b[31m10.6 MB/s\u001b[0m eta \u001b[36m0:00:00\u001b[0m\n",
            "\u001b[?25hInstalling collected packages: POT\n",
            "Successfully installed POT-0.9.5\n"
          ]
        }
      ],
      "source": [
        "!pip install POT"
      ]
    },
    {
      "cell_type": "code",
      "source": [
        "# prompt: # prompt: # prompt: import otのChamfer Distanceを算出したいです。３次元の点群データで実施したい。点群の数は乱数で100点生成してください。そして、０～１の正規化をしておいてください\n",
        "\n",
        "import numpy as np\n",
        "import ot\n",
        "\n",
        "# 3次元点群データの生成 (100点ずつ、乱数)\n",
        "X = np.random.rand(100, 3)\n",
        "Y = np.random.rand(100, 3)\n",
        "\n",
        "# 0～1の正規化\n",
        "X_min = np.min(X, axis=0)\n",
        "X_max = np.max(X, axis=0)\n",
        "X = (X - X_min) / (X_max - X_min)\n",
        "\n",
        "Y_min = np.min(Y, axis=0)\n",
        "Y_max = np.max(Y, axis=0)\n",
        "Y = (Y - Y_min) / (Y_max - Y_min)\n",
        "\n",
        "\n",
        "# 各点群の重み (同じ数で初期化)\n",
        "a = np.ones(len(X)) / len(X)\n",
        "b = np.ones(len(Y)) / len(Y)\n",
        "\n",
        "# コスト行列の計算 (ユークリッド距離を使用)\n",
        "M = ot.dist(X, Y)\n",
        "\n",
        "# EMDの計算\n",
        "emd = ot.emd2(a, b, M)\n",
        "\n",
        "print(f\"Earth Mover's Distance (EMD): {emd}\")\n",
        "\n",
        "# Chamfer Distanceの計算\n",
        "def chamfer_distance(X, Y):\n",
        "    \"\"\"\n",
        "    Chamfer Distanceを計算する関数。\n",
        "\n",
        "    Args:\n",
        "      X: 点群データ1 (N x 3)\n",
        "      Y: 点群データ2 (M x 3)\n",
        "\n",
        "    Returns:\n",
        "      Chamfer Distance\n",
        "    \"\"\"\n",
        "\n",
        "    dist_xy = np.sum((X[:, np.newaxis, :] - Y[np.newaxis, :, :]) ** 2, axis=2)\n",
        "    dist_yx = np.sum((Y[:, np.newaxis, :] - X[np.newaxis, :, :]) ** 2, axis=2)\n",
        "\n",
        "    cd = np.mean(np.min(dist_xy, axis=1)) + np.mean(np.min(dist_yx, axis=1))\n",
        "\n",
        "    return cd\n",
        "\n",
        "cd = chamfer_distance(X,Y)\n",
        "print(f\"Chamfer Distance: {cd}\")"
      ],
      "metadata": {
        "colab": {
          "base_uri": "https://localhost:8080/"
        },
        "id": "Hd_N2K76awNW",
        "outputId": "422cf83e-f629-4a6d-9418-ecb1f164ef09"
      },
      "execution_count": 8,
      "outputs": [
        {
          "output_type": "stream",
          "name": "stdout",
          "text": [
            "Earth Mover's Distance (EMD): 0.040430243152320536\n",
            "Chamfer Distance: 0.038443311873027325\n"
          ]
        }
      ]
    }
  ]
}